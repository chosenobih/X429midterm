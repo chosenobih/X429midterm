{
 "cells": [
  {
   "cell_type": "code",
   "execution_count": null,
   "id": "0559f86f",
   "metadata": {},
   "outputs": [],
   "source": [
    "!python model_train.py"
   ]
  },
  {
   "cell_type": "code",
   "execution_count": null,
   "id": "3bb4482a",
   "metadata": {},
   "outputs": [],
   "source": [
    "!python lstm_model_train.py\n"
   ]
  },
  {
   "cell_type": "code",
   "execution_count": null,
   "id": "2f9ce47f",
   "metadata": {},
   "outputs": [],
   "source": [
    "!python lstm_deep_model_train.py\n"
   ]
  },
  {
   "cell_type": "code",
   "execution_count": null,
   "id": "28da9711",
   "metadata": {},
   "outputs": [],
   "source": [
    "!python ensemble_evaluation.py\n"
   ]
  }
 ],
 "metadata": {
  "kernelspec": {
   "display_name": "Python 3.9.7 64-bit ('info529midterm': conda)",
   "language": "python",
   "name": "python397jvsc74a57bd05311882c7e41437d573b7daf7b90d7b0ff4b936e790a93b88090816092df79e1"
  },
  "language_info": {
   "codemirror_mode": {
    "name": "ipython",
    "version": 3
   },
   "file_extension": ".py",
   "mimetype": "text/x-python",
   "name": "python",
   "nbconvert_exporter": "python",
   "pygments_lexer": "ipython3",
   "version": "3.9.7"
  }
 },
 "nbformat": 4,
 "nbformat_minor": 5
}
